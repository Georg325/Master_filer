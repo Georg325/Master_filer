{
 "cells": [
  {
   "cell_type": "code",
   "execution_count": null,
   "id": "2e97eb7cabcc0430",
   "metadata": {
    "colab": {
     "base_uri": "https://localhost:8080/"
    },
    "id": "2e97eb7cabcc0430",
    "outputId": "03a71af9-8fbd-4758-c493-896ff89cd584"
   },
   "outputs": [],
   "source": [
    "if 'google.colab' in str(get_ipython()):\n",
    "    %matplotlib inline\n",
    "else:\n",
    "    %matplotlib notebook"
   ]
  },
  {
   "cell_type": "code",
   "execution_count": null,
   "id": "990981c081bbd4ef",
   "metadata": {
    "id": "990981c081bbd4ef"
   },
   "outputs": [],
   "source": [
    "import time\n",
    "from funtion_file import *"
   ]
  },
  {
   "cell_type": "code",
   "execution_count": null,
   "id": "e4b10037665fa737",
   "metadata": {
    "id": "e4b10037665fa737"
   },
   "outputs": [],
   "source": [
    "matrix_params = {\n",
    "    'mat_size': (5,5),\n",
    "    'kernel_size': (2, 2),\n",
    "    'min_max_line_size': [(1,3),(1,3)],\n",
    "    'rotate': True,\n",
    "    'fades_per_mat': 16,\n",
    "    'new_background': True,\n",
    "    'shape': 'line',  # 'line', 'triangle', 'face'\n",
    "}\n",
    "\n",
    "matrix_lister = MatrixLister(**matrix_params)"
   ]
  },
  {
   "cell_type": "code",
   "execution_count": null,
   "id": "dc60a087bbcb08fa",
   "metadata": {
    "id": "dc60a087bbcb08fa"
   },
   "outputs": [],
   "source": [
    "model, callbacks = matrix_lister.init_model(32, 128, 'none')  # auto, line, triangle, none"
   ]
  },
  {
   "cell_type": "code",
   "execution_count": null,
   "id": "6e6ee8419f03a2c2",
   "metadata": {
    "collapsed": false,
    "jupyter": {
     "outputs_hidden": false
    }
   },
   "outputs": [],
   "source": [
    "model.load_weights('weights.h5')"
   ]
  },
  {
   "cell_type": "code",
   "execution_count": null,
   "id": "d3a3ba654f5578cd",
   "metadata": {
    "colab": {
     "base_uri": "https://localhost:8080/"
    },
    "id": "d3a3ba654f5578cd",
    "outputId": "287536c7-9038-4c52-988a-3f101bae1971"
   },
   "outputs": [],
   "source": [
    "batch_size = 50\n",
    "batch_num = 10\n",
    "epochs = 100\n",
    "\n",
    "generator = matrix_lister.init_generator(batch_size, batch_num)\n",
    "\n",
    "\n",
    "start = time.time()\n",
    "hist = model.fit(generator, epochs=epochs, callbacks=callbacks)\n",
    "print(time.time() - start)"
   ]
  },
  {
   "cell_type": "code",
   "execution_count": null,
   "id": "9caf6f788566a353",
   "metadata": {
    "id": "9caf6f788566a353"
   },
   "outputs": [],
   "source": [
    "matrix_lister.save_model(model, 'none')  # auto, line, triangle, none"
   ]
  },
  {
   "cell_type": "code",
   "execution_count": null,
   "id": "ae70ad78808176ca",
   "metadata": {
    "collapsed": false,
    "jupyter": {
     "outputs_hidden": false
    }
   },
   "outputs": [],
   "source": [
    "%matplotlib inline\n",
    "matrix_lister.display_frames(model, 1)"
   ]
  },
  {
   "cell_type": "code",
   "execution_count": null,
   "id": "8a89a8474ac359d",
   "metadata": {
    "colab": {
     "base_uri": "https://localhost:8080/",
     "height": 479
    },
    "id": "8a89a8474ac359d",
    "outputId": "2d4f632a-7217-4cf8-dc23-876469a101b3"
   },
   "outputs": [],
   "source": [
    "ani = matrix_lister.plot_matrices(model, 50, interval=500)\n",
    "plt.show()"
   ]
  },
  {
   "cell_type": "code",
   "execution_count": null,
   "id": "7d31341f9807704c",
   "metadata": {
    "collapsed": false,
    "jupyter": {
     "outputs_hidden": false
    }
   },
   "outputs": [],
   "source": [
    "plot_training_history(hist, with_val=False)"
   ]
  },
  {
   "cell_type": "code",
   "execution_count": null,
   "id": "2ef602068abccfca",
   "metadata": {
    "colab": {
     "base_uri": "https://localhost:8080/",
     "height": 248
    },
    "id": "2ef602068abccfca",
    "outputId": "f9922997-6d97-481c-e50c-b17b523bce71"
   },
   "outputs": [],
   "source": []
  }
 ],
 "metadata": {
  "accelerator": "GPU",
  "colab": {
   "gpuType": "T4",
   "provenance": []
  },
  "kernelspec": {
   "display_name": "Python 3 (ipykernel)",
   "language": "python",
   "name": "python3"
  },
  "language_info": {
   "codemirror_mode": {
    "name": "ipython",
    "version": 3
   },
   "file_extension": ".py",
   "mimetype": "text/x-python",
   "name": "python",
   "nbconvert_exporter": "python",
   "pygments_lexer": "ipython3",
   "version": "3.9.10"
  }
 },
 "nbformat": 4,
 "nbformat_minor": 5
}
