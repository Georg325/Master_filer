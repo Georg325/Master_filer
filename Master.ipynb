{
 "cells": [
  {
   "cell_type": "code",
   "execution_count": 7,
   "id": "2e97eb7cabcc0430",
   "metadata": {
    "collapsed": false,
    "ExecuteTime": {
     "end_time": "2024-01-22T10:45:33.044073200Z",
     "start_time": "2024-01-22T10:45:33.030947300Z"
    }
   },
   "outputs": [
    {
     "name": "stdout",
     "output_type": "stream",
     "text": [
      "Not running on CoLab\n"
     ]
    }
   ],
   "source": [
    "from abc import ABC\n",
    "\n",
    "if 'google.colab' in str(get_ipython()):\n",
    "  print('Running on CoLab')\n",
    "  %matplotlib inline\n",
    "else:\n",
    "    print('Not running on CoLab')\n",
    "    %matplotlib notebook\n",
    "    import os\n",
    "    os.environ[\"CUDA_DEVICE_ORDER\"] = \"PCI_BUS_ID\"\n",
    "    os.environ[\"CUDA_VISIBLE_DEVICES\"] = \"1\""
   ]
  },
  {
   "cell_type": "code",
   "execution_count": 8,
   "id": "990981c081bbd4ef",
   "metadata": {
    "collapsed": false,
    "ExecuteTime": {
     "end_time": "2024-01-22T10:45:33.075247700Z",
     "start_time": "2024-01-22T10:45:33.045074100Z"
    }
   },
   "outputs": [],
   "source": [
    "import time\n",
    "from matplotlib.animation import FuncAnimation\n",
    "\n",
    "from keras.models import Sequential\n",
    "from keras.layers import Dense, GRU, Conv2D, Flatten, MaxPooling2D, Dropout, Reshape, TimeDistributed\n",
    "from IPython.display import HTML\n",
    "from funtion_file import *\n",
    "from tensorflow.keras.metrics import Precision, Recall\n",
    "import tensorflow as tf\n",
    "import keras as ks"
   ]
  },
  {
   "cell_type": "code",
   "execution_count": 9,
   "id": "e60586cf65efb97b",
   "metadata": {
    "collapsed": false,
    "ExecuteTime": {
     "end_time": "2024-01-22T10:45:33.089265500Z",
     "start_time": "2024-01-22T10:45:33.070419900Z"
    }
   },
   "outputs": [],
   "source": [
    "\n",
    "\n",
    "class MatrixLister:\n",
    "    def __init__(self, row_len, col_len, kernel_size, min_max_line_size, rotate, num_of_mat, num_per_mat, num_neuron):\n",
    "        self.row_len = row_len\n",
    "        self.col_len = col_len\n",
    "        self.kernel_size = kernel_size\n",
    "        self.min_max_line_size = min_max_line_size\n",
    "        self.rotate = rotate\n",
    "        self.num_of_mat = num_of_mat\n",
    "        self.num_per_mat = num_per_mat\n",
    "        self.num_neuron = num_neuron\n",
    "\n",
    "        self.con_matrix, self.line_pos_mat, self.con_alfa = self.create_matrix_in_list(32)\n",
    "        \n",
    "        self.model = None\n",
    "        self.build_model((self.row_len, self.col_len), self.num_neuron)\n",
    "        \n",
    "\n",
    "    def create_matrix_in_list(self, batch_size):\n",
    "        list_matrix = []\n",
    "        list_pos_mat = []\n",
    "        list_alfa = []\n",
    "\n",
    "        for k in range(0, int(batch_size/self.num_per_mat)):\n",
    "            line_size = rotater((\n",
    "                np.random.randint(self.min_max_line_size[0][0], self.min_max_line_size[1][0] + 1),\n",
    "                np.random.randint(self.min_max_line_size[0][1], self.min_max_line_size[1][1] + 1)\n",
    "            ))\n",
    "\n",
    "            mat, pos, alf = matrix_maker(self.row_len, self.col_len, self.kernel_size, line_size, self.num_per_mat)\n",
    "\n",
    "            list_matrix.append(mat)\n",
    "            list_pos_mat.append(pos)\n",
    "            list_alfa.append(alf)\n",
    "\n",
    "        # Concatenate the lists along the first axis (axis=0)\n",
    "        list_matrix = np.concatenate(list_matrix, axis=0)\n",
    "        list_pos_mat = np.concatenate(list_pos_mat, axis=0)\n",
    "        list_alfa = np.concatenate(list_alfa, axis=0)\n",
    "\n",
    "        return list_matrix, list_pos_mat, list_alfa\n",
    "    \n",
    "\n",
    "    def build_model(self, input_size, num_neuron):\n",
    "        model = Sequential()\n",
    "        \n",
    "        # Apply Conv2D and Flatten to each time step\n",
    "        model.add(Conv2D(32, kernel_size=(1, 3), padding='same', activation='relu'))\n",
    "        model.add(Conv2D(32, kernel_size=(3, 1), padding='same', activation='relu'))\n",
    "        model.add(Conv2D(64, kernel_size=(2, 2), padding='same', activation='relu'))\n",
    "        model.add(MaxPooling2D(pool_size=2))\n",
    "        model.add(Conv2D(128, kernel_size=(2, 2), padding='same', activation='tanh'))\n",
    "        #model.add(MaxPooling2D(pool_size=2))\n",
    "        \n",
    "        # Apply SimpleRNN to the output of Conv2D and Flatten\n",
    "        model.add(TimeDistributed(Flatten()))\n",
    "        model.add(Dense(self.row_len*self.col_len, activation='tanh'))\n",
    "        model.add(GRU(num_neuron, activation='relu', return_sequences=True))\n",
    "        model.add(Dropout(0.1))\n",
    "        model.add(GRU(num_neuron, activation='relu'))\n",
    "        model.add(Dense(num_neuron, activation='tanh'))\n",
    "        \n",
    "        # Fully connected layer\n",
    "        model.add(Dense(input_size[0] * input_size[1], activation='sigmoid'))\n",
    "        \n",
    "        # Reshape to the desired output shape\n",
    "        model.add(Reshape((input_size[0], input_size[1], 1)))\n",
    "        \n",
    "        model.compile(optimizer='adam',\n",
    "        loss=custom_loss,\n",
    "        metrics=['accuracy', Precision(name='precision'), Recall(name='recall')])\n",
    "\n",
    "        self.model = model\n",
    "\n",
    "    def train_neural_network(self, generator, num_epochs=10):\n",
    "        checkpoint_filepath = 'weights.h5'\n",
    "        model_checkpoint_callback = ks.callbacks.ModelCheckpoint(\n",
    "        filepath=checkpoint_filepath,\n",
    "        save_weights_only=True,\n",
    "        monitor='val_accuracy',\n",
    "        mode='max',\n",
    "        save_best_only=True)\n",
    "\n",
    "        return self.model.fit_generator(generator=generator,validation_data=generator, epochs=num_epochs, callbacks=[model_checkpoint_callback], use_multiprocessing=True)\n",
    "        \n",
    "    def predict_neural_network(self, in_data):\n",
    "        input_data = np.expand_dims(np.array([matrix for matrix in in_data]),-1)\n",
    "        return self.model.predict(input_data)\n",
    "    \n",
    "    def plot_matrices(self, num_to_pred, new_mat=False, interval=500):\n",
    "        if new_mat:\n",
    "            self.num_of_mat = num_to_pred\n",
    "            self.con_matrix, self.line_pos_mat, self.con_alfa = self.create_matrix_in_list(num_to_pred*self.num_per_mat)\n",
    "            \n",
    "        input_matrix = np.array(self.con_matrix[:num_to_pred*self.num_per_mat])\n",
    "        true_matrix = self.line_pos_mat[:num_to_pred*self.num_per_mat]\n",
    "        \n",
    "        \n",
    "        pred = self.predict_neural_network(input_matrix)\n",
    "    \n",
    "        predicted_line_pos_mat = np.array(pred).reshape(input_matrix.shape)\n",
    "        \n",
    "        fig, axes = plt.subplots(1, 3, figsize=(12, 4))  # 1 row, 3 columns\n",
    "    \n",
    "        def update(frame):\n",
    "            # Plot Input Matrix\n",
    "            im = [axes[0].imshow(input_matrix[frame], interpolation='nearest', aspect='auto', vmin=0, vmax=1)]\n",
    "            axes[0].set_title('Input Matrix')\n",
    "    \n",
    "            # Plot True Line Position Matrix\n",
    "            im.append(axes[1].imshow(true_matrix[frame], interpolation='nearest', aspect='auto', vmin=0, vmax=1))\n",
    "            axes[1].set_title('True Line Position Matrix')\n",
    "    \n",
    "            # Plot Predicted Line Position Matrix\n",
    "            im.append(axes[2].imshow(predicted_line_pos_mat[frame], interpolation='nearest', aspect='auto', vmin=0, vmax=1))\n",
    "            axes[2].set_title('Predicted Line Position Matrix')\n",
    "            \n",
    "            return im\n",
    "    \n",
    "        animation = FuncAnimation(fig, update, frames=len(input_matrix), interval=interval, repeat=False, blit=True)\n",
    "    \n",
    "        plt.tight_layout()\n",
    "        return animation\n",
    "    \n",
    "    \n",
    "class DataGenerator(ks.utils.Sequence, ABC):\n",
    "    \"\"\"Generates data for Keras\"\"\"\n",
    "    def __init__(self, mat_obj):\n",
    "        \"\"\"Initialization\"\"\"\n",
    "        self.mat_obj = mat_obj\n",
    "    \n",
    "    def __len__(self):\n",
    "        'Denotes the number of batches per epoch'\n",
    "        return 5\n",
    "    \n",
    "    def __getitem__(self, index):\n",
    "        'Generate one batch of data'\n",
    "        # Generate data\n",
    "        x, y, _  = self.mat_obj.create_matrix_in_list(32)\n",
    "\n",
    "        return np.expand_dims(x, -1), np.expand_dims(y, -1)\n",
    "\n",
    "\n",
    "\n",
    "def rotater(line):\n",
    "    if np.random.random() < 0.5:\n",
    "        return line[::-1]\n",
    "    return line\n",
    "\n",
    "\n",
    "def plot(matrix, interval=200):\n",
    "    fig, ax = plt.subplots()\n",
    "\n",
    "    def update(frame):\n",
    "        ax.clear()\n",
    "        im = ax.imshow(matrix[frame], interpolation='nearest', aspect='auto', vmin=0, vmax=1)\n",
    "\n",
    "        return [im]\n",
    "\n",
    "    animation = FuncAnimation(fig, update, frames=len(matrix), interval=interval, repeat=False, blit=True)\n",
    "    plt.tight_layout()\n",
    "    plt.show(block=False)\n",
    "    plt.show()\n",
    "    return animation\n",
    "\n",
    "    \n",
    "def custom_loss(y_true, y_pred):\n",
    "    # Define a mask to identify positions where y_true is 1\n",
    "    mask = tf.cast(y_true, dtype=tf.bool)\n",
    "\n",
    "    # Calculate mean squared error\n",
    "    mse_loss = tf.reduce_mean(tf.square(y_true - y_pred))\n",
    "\n",
    "    # Penalize predictions less than 0.5 when y_true is 1\n",
    "    penalty = tf.where(mask, tf.math.square(tf.maximum(0.5 - y_pred, 0)), 0)\n",
    "\n",
    "    # Combine the mean squared error with the custom penalty\n",
    "    combined_loss = mse_loss + 100*tf.reduce_mean(penalty)\n",
    "\n",
    "    return combined_loss\n",
    "\n",
    "    "
   ]
  },
  {
   "cell_type": "code",
   "execution_count": 10,
   "id": "e4b10037665fa737",
   "metadata": {
    "collapsed": false,
    "ExecuteTime": {
     "end_time": "2024-01-22T10:45:33.119622600Z",
     "start_time": "2024-01-22T10:45:33.091380500Z"
    }
   },
   "outputs": [],
   "source": [
    "row_len = 10\n",
    "col_len = 12\n",
    "kernel_size = (2, 2)\n",
    "min_max_line_size = [(1,5),(1,8)]\n",
    "rotate = True\n",
    "num_of_mat = 250*2\n",
    "numb_of_picture = 8\n",
    "num_of_neurons = 256\n",
    "\n",
    "matrix_lister = MatrixLister(row_len, col_len, kernel_size, min_max_line_size, rotate, num_of_mat, numb_of_picture, num_of_neurons)"
   ]
  },
  {
   "cell_type": "code",
   "outputs": [],
   "source": [
    "generator = DataGenerator(matrix_lister)"
   ],
   "metadata": {
    "collapsed": false,
    "ExecuteTime": {
     "end_time": "2024-01-22T10:45:33.136334400Z",
     "start_time": "2024-01-22T10:45:33.121844600Z"
    }
   },
   "id": "dc60a087bbcb08fa",
   "execution_count": 11
  },
  {
   "cell_type": "code",
   "execution_count": null,
   "id": "d3a3ba654f5578cd",
   "metadata": {
    "collapsed": false,
    "is_executing": true,
    "ExecuteTime": {
     "start_time": "2024-01-22T10:45:33.144811300Z"
    }
   },
   "outputs": [
    {
     "name": "stderr",
     "output_type": "stream",
     "text": [
      "C:\\Users\\srben\\AppData\\Local\\Temp\\ipykernel_22656\\659646173.py:83: UserWarning: `Model.fit_generator` is deprecated and will be removed in a future version. Please use `Model.fit`, which supports generators.\n",
      "  return self.model.fit_generator(generator=generator,validation_data=generator, epochs=num_epochs, callbacks=[model_checkpoint_callback], use_multiprocessing=True)\n"
     ]
    },
    {
     "name": "stdout",
     "output_type": "stream",
     "text": [
      "Epoch 1/25\n",
      "WARNING:tensorflow:From C:\\Work program\\python\\Masterfil\\pythonProject1\\.venv\\lib\\site-packages\\keras\\src\\utils\\tf_utils.py:492: The name tf.ragged.RaggedTensorValue is deprecated. Please use tf.compat.v1.ragged.RaggedTensorValue instead.\n",
      "WARNING:tensorflow:From C:\\Work program\\python\\Masterfil\\pythonProject1\\.venv\\lib\\site-packages\\keras\\src\\engine\\base_layer_utils.py:384: The name tf.executing_eagerly_outside_functions is deprecated. Please use tf.compat.v1.executing_eagerly_outside_functions instead.\n"
     ]
    }
   ],
   "source": [
    "batch_size = 2**9\n",
    "epochs = 25\n",
    "\n",
    "start = time.time()\n",
    "hist = matrix_lister.train_neural_network(generator=generator, num_epochs=epochs)\n",
    "\n",
    "print(time.time() - start)"
   ]
  },
  {
   "cell_type": "code",
   "execution_count": null,
   "id": "8a89a8474ac359d",
   "metadata": {
    "collapsed": false,
    "is_executing": true
   },
   "outputs": [],
   "source": [
    "ani = matrix_lister.plot_matrices(20)\n",
    "plt.show()"
   ]
  },
  {
   "cell_type": "code",
   "execution_count": null,
   "id": "1a818fccf14d58e4",
   "metadata": {
    "collapsed": false,
    "is_executing": true
   },
   "outputs": [],
   "source": [
    "if 'google.colab' in str(get_ipython()):\n",
    "    HTML(ani.to_html5_video())"
   ]
  },
  {
   "cell_type": "code",
   "execution_count": null,
   "id": "2ef602068abccfca",
   "metadata": {
    "collapsed": false,
    "is_executing": true
   },
   "outputs": [],
   "source": [
    "%matplotlib inline\n",
    "plot_training_history(hist)"
   ]
  },
  {
   "cell_type": "code",
   "execution_count": null,
   "id": "539de8034ecf1ab9",
   "metadata": {
    "collapsed": false,
    "is_executing": true
   },
   "outputs": [],
   "source": []
  }
 ],
 "metadata": {
  "kernelspec": {
   "display_name": "Python 3 (ipykernel)",
   "language": "python",
   "name": "python3"
  },
  "language_info": {
   "codemirror_mode": {
    "name": "ipython",
    "version": 3
   },
   "file_extension": ".py",
   "mimetype": "text/x-python",
   "name": "python",
   "nbconvert_exporter": "python",
   "pygments_lexer": "ipython3",
   "version": "3.9.10"
  }
 },
 "nbformat": 4,
 "nbformat_minor": 5
}
