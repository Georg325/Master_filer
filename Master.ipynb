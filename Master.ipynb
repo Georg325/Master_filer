{
 "cells": [
  {
   "cell_type": "code",
   "execution_count": 1,
   "id": "2e97eb7cabcc0430",
   "metadata": {
    "colab": {
     "base_uri": "https://localhost:8080/"
    },
    "id": "2e97eb7cabcc0430",
    "outputId": "03a71af9-8fbd-4758-c493-896ff89cd584",
    "ExecuteTime": {
     "end_time": "2024-02-12T14:21:31.689553300Z",
     "start_time": "2024-02-12T14:21:31.405114Z"
    }
   },
   "outputs": [],
   "source": [
    "if 'google.colab' in str(get_ipython()):\n",
    "    %matplotlib inline\n",
    "else:\n",
    "    %matplotlib notebook"
   ]
  },
  {
   "cell_type": "code",
   "execution_count": 2,
   "id": "990981c081bbd4ef",
   "metadata": {
    "id": "990981c081bbd4ef",
    "ExecuteTime": {
     "end_time": "2024-02-12T14:21:34.584950100Z",
     "start_time": "2024-02-12T14:21:31.691553400Z"
    }
   },
   "outputs": [
    {
     "name": "stdout",
     "output_type": "stream",
     "text": [
      "WARNING:tensorflow:From C:\\Work program\\python\\Masterfil\\pythonProject1\\.venv\\lib\\site-packages\\keras\\src\\losses.py:2976: The name tf.losses.sparse_softmax_cross_entropy is deprecated. Please use tf.compat.v1.losses.sparse_softmax_cross_entropy instead.\n"
     ]
    }
   ],
   "source": [
    "import time\n",
    "from funtion_file import *"
   ]
  },
  {
   "cell_type": "code",
   "execution_count": 3,
   "id": "e4b10037665fa737",
   "metadata": {
    "id": "e4b10037665fa737",
    "ExecuteTime": {
     "end_time": "2024-02-12T14:21:34.600790700Z",
     "start_time": "2024-02-12T14:21:34.585954800Z"
    }
   },
   "outputs": [],
   "source": [
    "matrix_params = {\n",
    "    'mat_size': (5, 5),\n",
    "    'strength_kernel': (0.5, 3), \n",
    "    'min_max_line_size': [(1, 3), (1, 3)],\n",
    "    'rotate': True,\n",
    "    'fades_per_mat': 10,\n",
    "    'new_background': True,\n",
    "    'shape': 'line',  # 'line', 'triangle', 'face'\n",
    "}\n",
    "\n",
    "matrix_lister = MatrixLister(**matrix_params)"
   ]
  },
  {
   "cell_type": "code",
   "execution_count": 4,
   "id": "dc60a087bbcb08fa",
   "metadata": {
    "id": "dc60a087bbcb08fa",
    "ExecuteTime": {
     "end_time": "2024-02-12T14:21:34.995615200Z",
     "start_time": "2024-02-12T14:21:34.601955700Z"
    }
   },
   "outputs": [
    {
     "name": "stdout",
     "output_type": "stream",
     "text": [
      "WARNING:tensorflow:From C:\\Work program\\python\\Masterfil\\pythonProject1\\.venv\\lib\\site-packages\\keras\\src\\backend.py:873: The name tf.get_default_graph is deprecated. Please use tf.compat.v1.get_default_graph instead.\n"
     ]
    },
    {
     "name": "stderr",
     "output_type": "stream",
     "text": [
      "WARNING:absl:Skipping variable loading for optimizer 'Adam', because it has 1 variables whereas the saved optimizer has 29 variables. \n"
     ]
    },
    {
     "name": "stdout",
     "output_type": "stream",
     "text": [
      "Loaded line weights\n"
     ]
    }
   ],
   "source": [
    "model, callbacks = matrix_lister.init_model(64, 128, 'cnn_gru')\n",
    "matrix_lister.load_model(model, 'auto')"
   ]
  },
  {
   "cell_type": "code",
   "execution_count": 5,
   "id": "d3a3ba654f5578cd",
   "metadata": {
    "colab": {
     "base_uri": "https://localhost:8080/"
    },
    "id": "d3a3ba654f5578cd",
    "outputId": "287536c7-9038-4c52-988a-3f101bae1971",
    "ExecuteTime": {
     "end_time": "2024-02-12T14:21:37.593239600Z",
     "start_time": "2024-02-12T14:21:34.999492100Z"
    }
   },
   "outputs": [
    {
     "name": "stdout",
     "output_type": "stream",
     "text": [
      "Epoch 1/5\n",
      "WARNING:tensorflow:From C:\\Work program\\python\\Masterfil\\pythonProject1\\.venv\\lib\\site-packages\\keras\\src\\utils\\tf_utils.py:492: The name tf.ragged.RaggedTensorValue is deprecated. Please use tf.compat.v1.ragged.RaggedTensorValue instead.\n"
     ]
    },
    {
     "name": "stderr",
     "output_type": "stream",
     "text": [
      "WARNING:tensorflow:From C:\\Work program\\python\\Masterfil\\pythonProject1\\.venv\\lib\\site-packages\\keras\\src\\utils\\tf_utils.py:492: The name tf.ragged.RaggedTensorValue is deprecated. Please use tf.compat.v1.ragged.RaggedTensorValue instead.\n",
      "\n"
     ]
    },
    {
     "name": "stdout",
     "output_type": "stream",
     "text": [
      "1/1 [==============================] - 2s 2s/step - loss: 1.1444 - precision: 0.1080 - recall: 0.0400\n",
      "Epoch 2/5\n",
      "1/1 [==============================] - 0s 138ms/step - loss: 1.0753 - precision: 0.0000e+00 - recall: 0.0000e+00\n",
      "Epoch 3/5\n",
      "1/1 [==============================] - 0s 133ms/step - loss: 1.0363 - precision: 0.0000e+00 - recall: 0.0000e+00\n",
      "Epoch 4/5\n",
      "1/1 [==============================] - 0s 138ms/step - loss: 1.0030 - precision: 0.0000e+00 - recall: 0.0000e+00\n",
      "Epoch 5/5\n",
      "1/1 [==============================] - 0s 140ms/step - loss: 0.9709 - precision: 0.0000e+00 - recall: 0.0000e+00\n",
      "2.5860910415649414\n"
     ]
    }
   ],
   "source": [
    "batch_size = 100\n",
    "batch_num = 1\n",
    "epochs = 5\n",
    "\n",
    "generator = matrix_lister.init_generator(batch_size, batch_num)\n",
    "\n",
    "\n",
    "start = time.time()\n",
    "hist = model.fit(generator, epochs=epochs)\n",
    "print(time.time() - start)"
   ]
  },
  {
   "cell_type": "code",
   "outputs": [
    {
     "name": "stdout",
     "output_type": "stream",
     "text": [
      "1/1 [==============================] - 0s 206ms/step\n",
      "[<tf.Tensor: shape=(5,), dtype=float32, numpy=array([1., 1., 1., 1., 1.], dtype=float32)>, <tf.Tensor: shape=(5,), dtype=float32, numpy=array([1. , 1. , 0.8, 0.8, 0.8], dtype=float32)>, <tf.Tensor: shape=(5,), dtype=float32, numpy=array([1. , 1. , 0.8, 0.8, 0.8], dtype=float32)>, <tf.Tensor: shape=(5,), dtype=float32, numpy=array([1. , 1. , 0.8, 0.8, 0.8], dtype=float32)>, <tf.Tensor: shape=(5,), dtype=float32, numpy=array([1. , 1. , 0.8, 0.8, 0.8], dtype=float32)>, <tf.Tensor: shape=(5,), dtype=float32, numpy=array([1. , 1. , 0.8, 0.8, 0.8], dtype=float32)>, <tf.Tensor: shape=(5,), dtype=float32, numpy=array([1. , 1. , 0.8, 0.8, 0.8], dtype=float32)>, <tf.Tensor: shape=(5,), dtype=float32, numpy=array([1. , 1. , 0.8, 0.8, 0.8], dtype=float32)>, <tf.Tensor: shape=(5,), dtype=float32, numpy=array([1. , 1. , 0.8, 0.8, 0.8], dtype=float32)>, <tf.Tensor: shape=(5,), dtype=float32, numpy=array([1. , 1. , 0.8, 0.8, 0.8], dtype=float32)>]\n"
     ]
    }
   ],
   "source": [
    "matrix_lister.eval(model)"
   ],
   "metadata": {
    "collapsed": false,
    "ExecuteTime": {
     "end_time": "2024-02-12T14:21:37.873115700Z",
     "start_time": "2024-02-12T14:21:37.595823700Z"
    }
   },
   "id": "7d10966d05697f5d",
   "execution_count": 6
  },
  {
   "cell_type": "code",
   "execution_count": null,
   "id": "9caf6f788566a353",
   "metadata": {
    "id": "9caf6f788566a353",
    "ExecuteTime": {
     "start_time": "2024-02-12T14:19:57.331522600Z"
    }
   },
   "outputs": [],
   "source": [
    "matrix_lister.save_model(model, 'auto')  # auto, line, triangle, none"
   ]
  },
  {
   "cell_type": "code",
   "execution_count": null,
   "id": "ae70ad78808176ca",
   "metadata": {
    "collapsed": false,
    "ExecuteTime": {
     "end_time": "2024-02-12T14:19:57.335522800Z",
     "start_time": "2024-02-12T14:19:57.333522500Z"
    }
   },
   "outputs": [],
   "source": [
    "%matplotlib notebook\n",
    "matrix_lister.display_frames(model, 16)"
   ]
  },
  {
   "cell_type": "code",
   "execution_count": null,
   "id": "8a89a8474ac359d",
   "metadata": {
    "colab": {
     "base_uri": "https://localhost:8080/",
     "height": 479
    },
    "id": "8a89a8474ac359d",
    "outputId": "2d4f632a-7217-4cf8-dc23-876469a101b3",
    "ExecuteTime": {
     "start_time": "2024-02-12T14:19:57.334529500Z"
    }
   },
   "outputs": [],
   "source": [
    "ani = matrix_lister.plot_matrices(model, 50, interval=500)\n",
    "plt.show()"
   ]
  },
  {
   "cell_type": "code",
   "execution_count": null,
   "id": "7d31341f9807704c",
   "metadata": {
    "collapsed": false,
    "ExecuteTime": {
     "end_time": "2024-02-12T14:19:57.335522800Z",
     "start_time": "2024-02-12T14:19:57.335522800Z"
    }
   },
   "outputs": [],
   "source": [
    "plot_training_history(hist, with_val=False)"
   ]
  },
  {
   "cell_type": "code",
   "execution_count": null,
   "id": "2ef602068abccfca",
   "metadata": {
    "colab": {
     "base_uri": "https://localhost:8080/",
     "height": 248
    },
    "id": "2ef602068abccfca",
    "outputId": "f9922997-6d97-481c-e50c-b17b523bce71",
    "ExecuteTime": {
     "start_time": "2024-02-12T14:19:57.337028Z"
    }
   },
   "outputs": [],
   "source": []
  }
 ],
 "metadata": {
  "accelerator": "GPU",
  "colab": {
   "gpuType": "T4",
   "provenance": []
  },
  "kernelspec": {
   "display_name": "Python 3 (ipykernel)",
   "language": "python",
   "name": "python3"
  },
  "language_info": {
   "codemirror_mode": {
    "name": "ipython",
    "version": 3
   },
   "file_extension": ".py",
   "mimetype": "text/x-python",
   "name": "python",
   "nbconvert_exporter": "python",
   "pygments_lexer": "ipython3",
   "version": "3.9.10"
  }
 },
 "nbformat": 4,
 "nbformat_minor": 5
}
