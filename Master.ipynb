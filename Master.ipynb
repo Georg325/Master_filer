{
 "cells": [
  {
   "cell_type": "code",
   "execution_count": null,
   "id": "2e97eb7cabcc0430",
   "metadata": {
    "colab": {
     "base_uri": "https://localhost:8080/"
    },
    "id": "2e97eb7cabcc0430",
    "outputId": "03a71af9-8fbd-4758-c493-896ff89cd584"
   },
   "outputs": [],
   "source": [
    "if 'google.colab' in str(get_ipython()):\n",
    "  print('Running on CoLab')\n",
    "  %matplotlib inline\n",
    "else:\n",
    "    print('Not running on CoLab')\n",
    "    %matplotlib notebook\n",
    "    import os\n",
    "    os.environ[\"CUDA_DEVICE_ORDER\"] = \"PCI_BUS_ID\"\n",
    "    os.environ[\"CUDA_VISIBLE_DEVICES\"] = \"1\""
   ]
  },
  {
   "cell_type": "code",
   "execution_count": null,
   "id": "990981c081bbd4ef",
   "metadata": {
    "id": "990981c081bbd4ef"
   },
   "outputs": [],
   "source": [
    "import time\n",
    "from os import path\n",
    "\n",
    "from matplotlib.animation import FFMpegWriter\n",
    "\n",
    "from funtion_file import *\n",
    "from ks_funtions import *\n",
    "from tensorflow.keras.metrics import Precision, Recall\n",
    "\n",
    "import keras as ks"
   ]
  },
  {
   "cell_type": "code",
   "execution_count": null,
   "id": "e4b10037665fa737",
   "metadata": {
    "id": "e4b10037665fa737"
   },
   "outputs": [],
   "source": [
    "row_len = 15\n",
    "col_len = 20\n",
    "kernel_size = (2, 2)\n",
    "min_max_line_size = [(1,5),(1,7)]\n",
    "rotate = True\n",
    "num_of_mat = 500\n",
    "fades_per_mat = 8\n",
    "num_neuron = 256\n",
    "new_background = False\n",
    "triangle = False\n",
    "\n",
    "\n",
    "matrix_lister = MatrixLister(row_len, col_len, kernel_size, min_max_line_size, rotate, num_of_mat, fades_per_mat, new_background, triangle)"
   ]
  },
  {
   "cell_type": "code",
   "execution_count": null,
   "id": "2d8fd2482072e7b3",
   "metadata": {
    "collapsed": false
   },
   "outputs": [],
   "source": [
    "matrix_lister.unique_lines()"
   ]
  },
  {
   "cell_type": "code",
   "execution_count": null,
   "id": "dc60a087bbcb08fa",
   "metadata": {
    "id": "dc60a087bbcb08fa"
   },
   "outputs": [],
   "source": [
    "checkpoint_filepath = 'weights.h5'\n",
    "model_checkpoint_callback = ks.callbacks.ModelCheckpoint(filepath=checkpoint_filepath, save_weights_only=True,\n",
    "                                                         monitor='loss', mode='min', save_best_only=True)\n",
    "\n",
    "model = build_model(row_len, col_len, 32, fades_per_mat)\n",
    "optimizer = ks.optimizers.Adam()\n",
    "model.compile(optimizer=optimizer, loss=custom_weighted_loss, metrics=[Precision(name='precision'), Recall(name='recall')])"
   ]
  },
  {
   "cell_type": "code",
   "execution_count": null,
   "id": "c48aaa3043ea8210",
   "metadata": {
    "collapsed": false
   },
   "outputs": [],
   "source": [
    "if path.exists('weights_good_triangle.h5'):\n",
    "    model.load_weights('weights_good_triangle.h5')\n",
    "    print('Loaded weights')"
   ]
  },
  {
   "cell_type": "code",
   "execution_count": null,
   "id": "d3a3ba654f5578cd",
   "metadata": {
    "colab": {
     "base_uri": "https://localhost:8080/"
    },
    "id": "d3a3ba654f5578cd",
    "outputId": "287536c7-9038-4c52-988a-3f101bae1971"
   },
   "outputs": [],
   "source": [
    "batch_size = 2**11\n",
    "epochs = 25\n",
    "\n",
    "generator = DataGenerator(matrix_lister, batch_size, fades_per_mat, num_of_mat)\n",
    "\n",
    "start = time.time()\n",
    "hist = model.fit(generator, epochs=epochs, callbacks=[model_checkpoint_callback])\n",
    "\n",
    "print(time.time() - start)"
   ]
  },
  {
   "cell_type": "code",
   "execution_count": null,
   "id": "9caf6f788566a353",
   "metadata": {
    "id": "9caf6f788566a353"
   },
   "outputs": [],
   "source": [
    "model.save_weights('weights_good_triangle.h5')"
   ]
  },
  {
   "cell_type": "code",
   "execution_count": null,
   "id": "8a89a8474ac359d",
   "metadata": {
    "colab": {
     "base_uri": "https://localhost:8080/",
     "height": 479
    },
    "id": "8a89a8474ac359d",
    "outputId": "2d4f632a-7217-4cf8-dc23-876469a101b3"
   },
   "outputs": [],
   "source": [
    "ani = matrix_lister.plot_matrices(model, 3, interval=500)\n",
    "plt.show()"
   ]
  },
  {
   "cell_type": "code",
   "execution_count": null,
   "id": "1a818fccf14d58e4",
   "metadata": {
    "id": "1a818fccf14d58e4"
   },
   "outputs": [],
   "source": [
    "if 'google.colab' in str(get_ipython()):\n",
    "    f = r\"animation.mp4\"\n",
    "    writervideo = FFMpegWriter(fps=24)\n",
    "    ani.save(f, writer=writervideo)"
   ]
  },
  {
   "cell_type": "code",
   "execution_count": null,
   "id": "2ef602068abccfca",
   "metadata": {
    "colab": {
     "base_uri": "https://localhost:8080/",
     "height": 248
    },
    "id": "2ef602068abccfca",
    "outputId": "f9922997-6d97-481c-e50c-b17b523bce71"
   },
   "outputs": [],
   "source": [
    "plot_training_history(hist, with_val=False)"
   ]
  },
  {
   "cell_type": "code",
   "execution_count": null,
   "id": "9e6f17c9956b246f",
   "metadata": {
    "collapsed": false
   },
   "outputs": [],
   "source": []
  }
 ],
 "metadata": {
  "accelerator": "GPU",
  "colab": {
   "gpuType": "T4",
   "provenance": []
  },
  "kernelspec": {
   "display_name": "Python 3 (ipykernel)",
   "language": "python",
   "name": "python3"
  },
  "language_info": {
   "codemirror_mode": {
    "name": "ipython",
    "version": 3
   },
   "file_extension": ".py",
   "mimetype": "text/x-python",
   "name": "python",
   "nbconvert_exporter": "python",
   "pygments_lexer": "ipython3",
   "version": "3.9.10"
  }
 },
 "nbformat": 4,
 "nbformat_minor": 5
}
