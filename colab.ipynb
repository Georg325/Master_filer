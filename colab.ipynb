{
 "cells": [
  {
   "cell_type": "code",
   "execution_count": null,
   "id": "initial_id",
   "metadata": {
    "collapsed": true
   },
   "outputs": [],
   "source": [
    "from function_file import train_multiple\n",
    "matrix__params = {\n",
    "        'mat_size': (10, 10),\n",
    "        'fades_per_mat': 10,\n",
    "\n",
    "        'strength_kernel': (1, 3),\n",
    "        'size': (6, 2),\n",
    "        'rotate': True,\n",
    "        'new_background': True,\n",
    "        'shape': 'line',  # 'line', 'triangle', 'face'\n",
    "\n",
    "        'val': True,\n",
    "\n",
    "        'val_strength_kernel': (1, 3),\n",
    "        'val_size': (6, 2),\n",
    "        'val_rotate': True,\n",
    "        'val_new_background': True,\n",
    "        'val_shape': 'line',  # 'line', 'triangle', 'face'\n",
    "        'subset': False,\n",
    "    }\n",
    "\n",
    "val__param = [{'rotate': False, 'val_size': (2, 6), 'val_rotate': False}]  # {'val_size': (3, 4), 'subset': True},\n",
    "\n",
    "    # 'dense', 'cnn', 'cnn-lstm',\n",
    "    # 'res', 'cnn-res', 'deep-res', 'res-dense', 'brain'\n",
    "    # 'rnn', 'cnn-rnn',\n",
    "    # 'unet', 'unet-rnn'\n",
    "model__types = ['cnn-lstm', ]\n",
    "\n",
    "train__param = [\n",
    "        500,  # batch_size =\n",
    "        20,  # batch_num =\n",
    "        50,  # epochs =\n",
    "    ]\n",
    "\n",
    "train_multiple(matrix__params, model__types, train__param, val__param, run=True, name_note='master2')"
   ]
  }
 ],
 "metadata": {
  "kernelspec": {
   "display_name": "Python 3",
   "language": "python",
   "name": "python3"
  },
  "language_info": {
   "codemirror_mode": {
    "name": "ipython",
    "version": 2
   },
   "file_extension": ".py",
   "mimetype": "text/x-python",
   "name": "python",
   "nbconvert_exporter": "python",
   "pygments_lexer": "ipython2",
   "version": "2.7.6"
  }
 },
 "nbformat": 4,
 "nbformat_minor": 5
}
